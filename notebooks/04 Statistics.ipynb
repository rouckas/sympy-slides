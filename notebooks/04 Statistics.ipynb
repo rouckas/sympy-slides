{
 "cells": [
  {
   "cell_type": "markdown",
   "metadata": {},
   "source": [
    "## Few examples from sympy.stats"
   ]
  },
  {
   "cell_type": "code",
   "execution_count": 1,
   "metadata": {},
   "outputs": [
    {
     "name": "stdout",
     "output_type": "stream",
     "text": [
      "\n"
     ]
    }
   ],
   "source": [
    "from sympy import *\n",
    "init_session(quiet=True)\n",
    "%matplotlib inline"
   ]
  },
  {
   "cell_type": "code",
   "execution_count": 2,
   "metadata": {},
   "outputs": [],
   "source": [
    "from sympy.stats import Die, P, E"
   ]
  },
  {
   "cell_type": "markdown",
   "metadata": {},
   "source": [
    "Let's play with two random variables, each representing a throw with a 6-sided die."
   ]
  },
  {
   "cell_type": "code",
   "execution_count": 3,
   "metadata": {},
   "outputs": [],
   "source": [
    "X, Y = Die(\"X\"), Die(\"Y\")"
   ]
  },
  {
   "cell_type": "markdown",
   "metadata": {},
   "source": [
    "Probability that we get 6 on both dice"
   ]
  },
  {
   "cell_type": "code",
   "execution_count": 4,
   "metadata": {},
   "outputs": [
    {
     "data": {
      "image/png": "[encoded data removed]",
      "text/latex": [
       "$$\\frac{1}{36}$$"
      ],
      "text/plain": [
       "1/36"
      ]
     },
     "execution_count": 4,
     "metadata": {},
     "output_type": "execute_result"
    }
   ],
   "source": [
    "P(Eq(X, 6) & Eq(Y, 6))"
   ]
  },
  {
   "cell_type": "code",
   "execution_count": 5,
   "metadata": {},
   "outputs": [
    {
     "data": {
      "image/png": "[encoded data removed]",
      "text/latex": [
       "$$\\frac{5}{12}$$"
      ],
      "text/plain": [
       "5/12"
      ]
     },
     "execution_count": 5,
     "metadata": {},
     "output_type": "execute_result"
    }
   ],
   "source": [
    "P(X>Y)"
   ]
  },
  {
   "cell_type": "markdown",
   "metadata": {},
   "source": [
    "You can ask about conditional probabilities"
   ]
  },
  {
   "cell_type": "code",
   "execution_count": 6,
   "metadata": {},
   "outputs": [
    {
     "data": {
      "image/png": "[encoded data removed]",
      "text/latex": [
       "$$\\frac{9}{10}$$"
      ],
      "text/plain": [
       "9/10"
      ]
     },
     "execution_count": 6,
     "metadata": {},
     "output_type": "execute_result"
    }
   ],
   "source": [
    "P(X+Y>3, Y<6)"
   ]
  },
  {
   "cell_type": "markdown",
   "metadata": {},
   "source": [
    "and conditional expectations"
   ]
  },
  {
   "cell_type": "code",
   "execution_count": 7,
   "metadata": {},
   "outputs": [
    {
     "data": {
      "image/png": "[encoded data removed]",
      "text/latex": [
       "$$\\frac{122}{33}$$"
      ],
      "text/plain": [
       "122\n",
       "───\n",
       " 33"
      ]
     },
     "execution_count": 7,
     "metadata": {},
     "output_type": "execute_result"
    }
   ],
   "source": [
    "E(X, X+Y>3)"
   ]
  },
  {
   "cell_type": "markdown",
   "metadata": {},
   "source": [
    "There are many more statistical distributions in the `sympy.stats` module"
   ]
  },
  {
   "cell_type": "code",
   "execution_count": 8,
   "metadata": {},
   "outputs": [
    {
     "data": {
      "text/plain": [
       "'Arcsin Benini Bernoulli Beta BetaPrime Binomial Cauchy Chi ChiNoncentral ChiSquared Coin ContinuousRV Covariance Dagum Die DiscreteUniform Erlang Expectation Exponential FDistribution FiniteRV FisherZ Frechet Gamma GammaInverse Geometric Gompertz Gumbel Hypergeometric Kumaraswamy Laplace LogNormal Logarithmic Logistic Maxwell Nakagami NegativeBinomial Normal Pareto Poisson Probability QuadraticU Rademacher RaisedCosine Rayleigh ShiftedGompertz StudentT Trapezoidal Triangular Uniform UniformSum Variance VonMises Weibull WignerSemicircle YuleSimon Zeta'"
      ]
     },
     "execution_count": 8,
     "metadata": {},
     "output_type": "execute_result"
    }
   ],
   "source": [
    "import sympy.stats\n",
    "\" \".join([p for p in dir(sympy.stats) if p[0].isupper() & (len(p)>1)])"
   ]
  },
  {
   "cell_type": "code",
   "execution_count": 9,
   "metadata": {},
   "outputs": [],
   "source": [
    "from sympy.stats import Normal, sample, std, cdf\n",
    "mu1, mu2 = symbols(\"mu1, mu2\")\n",
    "sigma1, sigma2 = symbols(\"sigma1, sigma2\", positive=True)"
   ]
  },
  {
   "cell_type": "code",
   "execution_count": 10,
   "metadata": {},
   "outputs": [],
   "source": [
    "X, Y = Normal(\"X\", mu1, sigma1), Normal(\"Y\", mu2, sigma2)"
   ]
  },
  {
   "cell_type": "code",
   "execution_count": 11,
   "metadata": {},
   "outputs": [
    {
     "data": {
      "image/png": "[encoded data removed]",
      "text/latex": [
       "$$\\left( z \\mapsto \\frac{\\operatorname{erf}{\\left (\\frac{\\sqrt{2} \\left(z - \\mu_{1}\\right)}{2 \\sigma_{1}} \\right )}}{2} + \\frac{1}{2} \\right)$$"
      ],
      "text/plain": [
       "       ⎛√2⋅(z - μ₁)⎞    \n",
       "    erf⎜───────────⎟    \n",
       "       ⎝    2⋅σ₁   ⎠   1\n",
       "z ↦ ──────────────── + ─\n",
       "           2           2"
      ]
     },
     "execution_count": 11,
     "metadata": {},
     "output_type": "execute_result"
    }
   ],
   "source": [
    "cdf(X)"
   ]
  },
  {
   "cell_type": "markdown",
   "metadata": {},
   "source": [
    "Probability of encounterin random value larger than $\\mu+\\sigma$"
   ]
  },
  {
   "cell_type": "code",
   "execution_count": 12,
   "metadata": {},
   "outputs": [
    {
     "data": {
      "image/png": "[encoded data removed]",
      "text/latex": [
       "$$- \\frac{\\operatorname{erf}{\\left (\\frac{\\sqrt{2}}{2} \\right )}}{2} + \\frac{1}{2}$$"
      ],
      "text/plain": [
       "     ⎛√2⎞    \n",
       "  erf⎜──⎟    \n",
       "     ⎝2 ⎠   1\n",
       "- ─────── + ─\n",
       "     2      2"
      ]
     },
     "execution_count": 12,
     "metadata": {},
     "output_type": "execute_result"
    }
   ],
   "source": [
    "simplify(P(X>mu1+sigma1))"
   ]
  },
  {
   "cell_type": "markdown",
   "metadata": {},
   "source": [
    "its numerical value"
   ]
  },
  {
   "cell_type": "code",
   "execution_count": 13,
   "metadata": {},
   "outputs": [
    {
     "data": {
      "image/png": "[encoded data removed]",
      "text/latex": [
       "$$0.158655253931457$$"
      ],
      "text/plain": [
       "0.158655253931457"
      ]
     },
     "execution_count": 13,
     "metadata": {},
     "output_type": "execute_result"
    }
   ],
   "source": [
    "simplify(P(X>mu1+sigma1)).evalf()"
   ]
  },
  {
   "cell_type": "markdown",
   "metadata": {},
   "source": [
    "and the expression used to calculate it:"
   ]
  },
  {
   "cell_type": "code",
   "execution_count": 14,
   "metadata": {},
   "outputs": [
    {
     "data": {
      "image/png": "[encoded data removed]",
      "text/latex": [
       "$$\\int_{0}^{\\infty} \\frac{\\sqrt{2} e^{- \\frac{\\left(z + \\sigma_{1}\\right)^{2}}{2 \\sigma_{1}^{2}}}}{2 \\sqrt{\\pi} \\sigma_{1}}\\, dz$$"
      ],
      "text/plain": [
       "∞                   \n",
       "⌠                   \n",
       "⎮              2    \n",
       "⎮     -(z + σ₁)     \n",
       "⎮     ───────────   \n",
       "⎮            2      \n",
       "⎮        2⋅σ₁       \n",
       "⎮ √2⋅ℯ              \n",
       "⎮ ─────────────── dz\n",
       "⎮     2⋅√π⋅σ₁       \n",
       "⌡                   \n",
       "0                   "
      ]
     },
     "execution_count": 14,
     "metadata": {},
     "output_type": "execute_result"
    }
   ],
   "source": [
    "P(X>mu1+sigma1, evaluate=False)"
   ]
  },
  {
   "cell_type": "markdown",
   "metadata": {},
   "source": [
    "Random samples from the distribution can be generated"
   ]
  },
  {
   "cell_type": "code",
   "execution_count": 15,
   "metadata": {},
   "outputs": [
    {
     "data": {
      "image/png": "[encoded data removed]",
      "text/latex": [
       "$$\\mu_{1} - 1.52245336395335 \\sigma_{1}$$"
      ],
      "text/plain": [
       "μ₁ - 1.52245336395335⋅σ₁"
      ]
     },
     "execution_count": 15,
     "metadata": {},
     "output_type": "execute_result"
    }
   ],
   "source": [
    "sample(X)"
   ]
  },
  {
   "cell_type": "markdown",
   "metadata": {},
   "source": [
    "Standard deviation of sum of two independent normally distributed random variables..."
   ]
  },
  {
   "cell_type": "code",
   "execution_count": 16,
   "metadata": {},
   "outputs": [
    {
     "data": {
      "image/png": "[encoded data removed]",
      "text/latex": [
       "$$\\sqrt{\\sigma_{1}^{2} + \\sigma_{2}^{2}}$$"
      ],
      "text/plain": [
       "   ___________\n",
       "  ╱   2     2 \n",
       "╲╱  σ₁  + σ₂  "
      ]
     },
     "execution_count": 16,
     "metadata": {},
     "output_type": "execute_result"
    }
   ],
   "source": [
    "simplify(std(X+Y))"
   ]
  },
  {
   "cell_type": "markdown",
   "metadata": {},
   "source": [
    "If the integrals cannot be calculated analytically in SymPy,"
   ]
  },
  {
   "cell_type": "code",
   "execution_count": 17,
   "metadata": {},
   "outputs": [
    {
     "data": {
      "image/png": "[encoded data removed]",
      "text/latex": [
       "$$\\int_{0}^{\\infty}\\int_{-\\infty}^{\\infty} \\frac{\\sqrt{2} e^{- \\frac{\\left(Y - 1\\right)^{2}}{2}} \\int_{-\\infty}^{\\infty} \\frac{\\sqrt{2} e^{- \\frac{X^{2}}{2}} \\delta\\left(- z + X - Y\\right)}{2 \\sqrt{\\pi}}\\, dX}{2 \\sqrt{\\pi}}\\, dY\\, dz$$"
      ],
      "text/plain": [
       "∞ ∞                                                   \n",
       "⌠ ⌠                                                   \n",
       "⎮ ⎮                 ∞                                 \n",
       "⎮ ⎮                 ⌠                                 \n",
       "⎮ ⎮                 ⎮        2                        \n",
       "⎮ ⎮              2  ⎮      -X                         \n",
       "⎮ ⎮      -(Y - 1)   ⎮      ────                       \n",
       "⎮ ⎮      ────────── ⎮       2                         \n",
       "⎮ ⎮          2      ⎮  √2⋅ℯ    ⋅δ(-z + X - Y)         \n",
       "⎮ ⎮  √2⋅ℯ          ⋅⎮  ────────────────────── dX      \n",
       "⎮ ⎮                 ⎮           2⋅√π                  \n",
       "⎮ ⎮                 ⌡                                 \n",
       "⎮ ⎮                 -∞                                \n",
       "⎮ ⎮  ─────────────────────────────────────────── dY dz\n",
       "⎮ ⎮                      2⋅√π                         \n",
       "⌡ ⌡                                                   \n",
       "0 -∞                                                  "
      ]
     },
     "execution_count": 17,
     "metadata": {},
     "output_type": "execute_result"
    }
   ],
   "source": [
    "X, Y = Normal(\"X\", 0, 1), Normal(\"Y\", 1, 1)\n",
    "P(X>Y, evaluate=False)"
   ]
  },
  {
   "cell_type": "markdown",
   "metadata": {},
   "source": [
    "the probabilities can be estimated by Monte Carlo method (random sampling)"
   ]
  },
  {
   "cell_type": "code",
   "execution_count": 18,
   "metadata": {},
   "outputs": [
    {
     "data": {
      "image/png": "[encoded data removed]",
      "text/latex": [
       "$$0.23902$$"
      ],
      "text/plain": [
       "0.239020000000000"
      ]
     },
     "execution_count": 18,
     "metadata": {},
     "output_type": "execute_result"
    }
   ],
   "source": [
    "P(X>Y, numsamples=100000)"
   ]
  }
 ],
 "metadata": {
  "kernelspec": {
   "display_name": "Python 3",
   "language": "python",
   "name": "python3"
  },
  "language_info": {
   "codemirror_mode": {
    "name": "ipython",
    "version": 3
   },
   "file_extension": ".py",
   "mimetype": "text/x-python",
   "name": "python",
   "nbconvert_exporter": "python",
   "pygments_lexer": "ipython3",
   "version": "3.6.6"
  }
 },
 "nbformat": 4,
 "nbformat_minor": 2
}
