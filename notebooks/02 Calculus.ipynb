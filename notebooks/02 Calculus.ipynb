{
 "cells": [
  {
   "cell_type": "markdown",
   "metadata": {},
   "source": [
    "## Calculus\n",
    "### limits"
   ]
  },
  {
   "cell_type": "markdown",
   "metadata": {},
   "source": [
    "Note: for interactive work it is useful to run `init_session()`, which defines some basic symbols"
   ]
  },
  {
   "cell_type": "code",
   "execution_count": 1,
   "metadata": {},
   "outputs": [
    {
     "name": "stdout",
     "output_type": "stream",
     "text": [
      "IPython console for SymPy 1.3 (Python 3.6.6-64-bit) (ground types: python)\n",
      "\n",
      "These commands were executed:\n",
      ">>> from __future__ import division\n",
      ">>> from sympy import *\n",
      ">>> x, y, z, t = symbols('x y z t')\n",
      ">>> k, m, n = symbols('k m n', integer=True)\n",
      ">>> f, g, h = symbols('f g h', cls=Function)\n",
      ">>> init_printing()\n",
      "\n",
      "Documentation can be found at http://docs.sympy.org/1.3/\n",
      "\n"
     ]
    }
   ],
   "source": [
    "from sympy import *\n",
    "init_session()\n",
    "%matplotlib inline"
   ]
  },
  {
   "cell_type": "code",
   "execution_count": 2,
   "metadata": {},
   "outputs": [
    {
     "data": {
      "image/png": "[encoded data removed]",
      "text/latex": [
       "$$1$$"
      ],
      "text/plain": [
       "1"
      ]
     },
     "execution_count": 2,
     "metadata": {},
     "output_type": "execute_result"
    }
   ],
   "source": [
    "limit(sin(x)/x, x, 0)"
   ]
  },
  {
   "cell_type": "code",
   "execution_count": 4,
   "metadata": {},
   "outputs": [
    {
     "data": {
      "image/png": "[encoded data removed]",
      "text/latex": [
       "$$\\infty$$"
      ],
      "text/plain": [
       "∞"
      ]
     },
     "execution_count": 4,
     "metadata": {},
     "output_type": "execute_result"
    }
   ],
   "source": [
    "limit(1/x, x, 0)"
   ]
  },
  {
   "cell_type": "markdown",
   "metadata": {},
   "source": [
    "Limits are from the right by default. It can be changed with `dir` argument:"
   ]
  },
  {
   "cell_type": "code",
   "execution_count": 3,
   "metadata": {},
   "outputs": [
    {
     "data": {
      "image/png": "[encoded data removed]",
      "text/latex": [
       "$$-\\infty$$"
      ],
      "text/plain": [
       "-∞"
      ]
     },
     "execution_count": 3,
     "metadata": {},
     "output_type": "execute_result"
    }
   ],
   "source": [
    "limit(1/x, x, 0, dir=\"-\")"
   ]
  },
  {
   "cell_type": "code",
   "execution_count": 4,
   "metadata": {},
   "outputs": [
    {
     "ename": "ValueError",
     "evalue": "The limit does not exist since left hand limit = -oo and right hand limit = oo",
     "output_type": "error",
     "traceback": [
      "\u001b[0;31m---------------------------------------------------------------------------\u001b[0m",
      "\u001b[0;31mValueError\u001b[0m                                Traceback (most recent call last)",
      "\u001b[0;32m<ipython-input-4-f35578fa7914>\u001b[0m in \u001b[0;36m<module>\u001b[0;34m()\u001b[0m\n\u001b[0;32m----> 1\u001b[0;31m \u001b[0mlimit\u001b[0m\u001b[0;34m(\u001b[0m\u001b[0;36m1\u001b[0m\u001b[0;34m/\u001b[0m\u001b[0mx\u001b[0m\u001b[0;34m,\u001b[0m \u001b[0mx\u001b[0m\u001b[0;34m,\u001b[0m \u001b[0;36m0\u001b[0m\u001b[0;34m,\u001b[0m \u001b[0mdir\u001b[0m\u001b[0;34m=\u001b[0m\u001b[0;34m\"+-\"\u001b[0m\u001b[0;34m)\u001b[0m\u001b[0;34m\u001b[0m\u001b[0m\n\u001b[0m",
      "\u001b[0;32m/usr/local/lib/python3.6/dist-packages/sympy/series/limits.py\u001b[0m in \u001b[0;36mlimit\u001b[0;34m(e, z, z0, dir)\u001b[0m\n\u001b[1;32m     64\u001b[0m             raise ValueError(\"The limit does not exist since \"\n\u001b[1;32m     65\u001b[0m                     \u001b[0;34m\"left hand limit = %s and right hand limit = %s\"\u001b[0m\u001b[0;34m\u001b[0m\u001b[0m\n\u001b[0;32m---> 66\u001b[0;31m                     % (llim, rlim))\n\u001b[0m\u001b[1;32m     67\u001b[0m     \u001b[0;32melse\u001b[0m\u001b[0;34m:\u001b[0m\u001b[0;34m\u001b[0m\u001b[0m\n\u001b[1;32m     68\u001b[0m         \u001b[0;32mreturn\u001b[0m \u001b[0mLimit\u001b[0m\u001b[0;34m(\u001b[0m\u001b[0me\u001b[0m\u001b[0;34m,\u001b[0m \u001b[0mz\u001b[0m\u001b[0;34m,\u001b[0m \u001b[0mz0\u001b[0m\u001b[0;34m,\u001b[0m \u001b[0mdir\u001b[0m\u001b[0;34m)\u001b[0m\u001b[0;34m.\u001b[0m\u001b[0mdoit\u001b[0m\u001b[0;34m(\u001b[0m\u001b[0mdeep\u001b[0m\u001b[0;34m=\u001b[0m\u001b[0;32mFalse\u001b[0m\u001b[0;34m)\u001b[0m\u001b[0;34m\u001b[0m\u001b[0m\n",
      "\u001b[0;31mValueError\u001b[0m: The limit does not exist since left hand limit = -oo and right hand limit = oo"
     ]
    }
   ],
   "source": [
    "limit(1/x, x, 0, dir=\"+-\")"
   ]
  },
  {
   "cell_type": "markdown",
   "metadata": {},
   "source": [
    "We may also create an expression with the limit without evaluating it"
   ]
  },
  {
   "cell_type": "code",
   "execution_count": 5,
   "metadata": {},
   "outputs": [
    {
     "data": {
      "image/png": "[encoded data removed]",
      "text/latex": [
       "$$\\lim_{x \\to 0^+} \\frac{1}{x}$$"
      ],
      "text/plain": [
       "     1\n",
       " lim ─\n",
       "x─→0⁺x"
      ]
     },
     "execution_count": 5,
     "metadata": {},
     "output_type": "execute_result"
    }
   ],
   "source": [
    "Limit(1/x, x, 0, dir=\"+\")"
   ]
  },
  {
   "cell_type": "markdown",
   "metadata": {},
   "source": [
    "and evaluate later if needed"
   ]
  },
  {
   "cell_type": "code",
   "execution_count": 6,
   "metadata": {},
   "outputs": [
    {
     "data": {
      "image/png": "[encoded data removed]",
      "text/latex": [
       "$$\\infty$$"
      ],
      "text/plain": [
       "∞"
      ]
     },
     "execution_count": 6,
     "metadata": {},
     "output_type": "execute_result"
    }
   ],
   "source": [
    "_.doit()"
   ]
  },
  {
   "cell_type": "markdown",
   "metadata": {},
   "source": [
    "#### Differentiation"
   ]
  },
  {
   "cell_type": "code",
   "execution_count": 7,
   "metadata": {},
   "outputs": [
    {
     "data": {
      "image/png": "[encoded data removed]",
      "text/latex": [
       "$$\\frac{\\cos{\\left (x \\right )}}{x} - \\frac{\\sin{\\left (x \\right )}}{x^{2}}$$"
      ],
      "text/plain": [
       "cos(x)   sin(x)\n",
       "────── - ──────\n",
       "  x         2  \n",
       "           x   "
      ]
     },
     "execution_count": 7,
     "metadata": {},
     "output_type": "execute_result"
    }
   ],
   "source": [
    "diff(sin(x)/x, x)"
   ]
  },
  {
   "cell_type": "markdown",
   "metadata": {},
   "source": [
    "Multiple and multivariate derivatives are possible"
   ]
  },
  {
   "cell_type": "code",
   "execution_count": 8,
   "metadata": {},
   "outputs": [
    {
     "data": {
      "image/png": "[encoded data removed]",
      "text/latex": [
       "$$\\frac{- \\sin{\\left (x \\right )} - \\frac{2 \\cos{\\left (x \\right )}}{x} + \\frac{2 \\sin{\\left (x \\right )}}{x^{2}}}{x}$$"
      ],
      "text/plain": [
       "          2⋅cos(x)   2⋅sin(x)\n",
       "-sin(x) - ──────── + ────────\n",
       "             x           2   \n",
       "                        x    \n",
       "─────────────────────────────\n",
       "              x              "
      ]
     },
     "execution_count": 8,
     "metadata": {},
     "output_type": "execute_result"
    }
   ],
   "source": [
    "diff(sin(x)/x, x, x)"
   ]
  },
  {
   "cell_type": "code",
   "execution_count": 9,
   "metadata": {},
   "outputs": [
    {
     "data": {
      "image/png": "[encoded data removed]",
      "text/latex": [
       "$$\\frac{- \\sin{\\left (x \\right )} - \\frac{2 \\cos{\\left (x \\right )}}{x} + \\frac{2 \\sin{\\left (x \\right )}}{x^{2}}}{x}$$"
      ],
      "text/plain": [
       "          2⋅cos(x)   2⋅sin(x)\n",
       "-sin(x) - ──────── + ────────\n",
       "             x           2   \n",
       "                        x    \n",
       "─────────────────────────────\n",
       "              x              "
      ]
     },
     "execution_count": 9,
     "metadata": {},
     "output_type": "execute_result"
    }
   ],
   "source": [
    "diff(sin(x)/x, x, 2)"
   ]
  },
  {
   "cell_type": "code",
   "execution_count": 10,
   "metadata": {},
   "outputs": [
    {
     "data": {
      "image/png": "[encoded data removed]",
      "text/latex": [
       "$$- \\frac{2 \\sin{\\left (x \\right )}}{y^{3}}$$"
      ],
      "text/plain": [
       "-2⋅sin(x) \n",
       "──────────\n",
       "     3    \n",
       "    y     "
      ]
     },
     "execution_count": 10,
     "metadata": {},
     "output_type": "execute_result"
    }
   ],
   "source": [
    "diff(sin(x)/y, x, 2, y, 2)"
   ]
  },
  {
   "cell_type": "markdown",
   "metadata": {},
   "source": [
    "Unevaluated derivatives are useful for expressing differential equations"
   ]
  },
  {
   "cell_type": "code",
   "execution_count": 11,
   "metadata": {},
   "outputs": [
    {
     "data": {
      "image/png": "[encoded data removed]",
      "text/latex": [
       "$$\\frac{\\partial^{4}}{\\partial y^{2}\\partial x^{2}} \\frac{\\sin{\\left (x \\right )}}{y}$$"
      ],
      "text/plain": [
       "    4          \n",
       "   ∂   ⎛sin(x)⎞\n",
       "───────⎜──────⎟\n",
       "  2   2⎝  y   ⎠\n",
       "∂y  ∂x         "
      ]
     },
     "execution_count": 11,
     "metadata": {},
     "output_type": "execute_result"
    }
   ],
   "source": [
    "Derivative(sin(x)/y, x, 2, y, 2)"
   ]
  },
  {
   "cell_type": "markdown",
   "metadata": {},
   "source": [
    "#### Series expansion"
   ]
  },
  {
   "cell_type": "code",
   "execution_count": 12,
   "metadata": {},
   "outputs": [
    {
     "data": {
      "image/png": "[encoded data removed]",
      "text/latex": [
       "$$1 + x + \\frac{x^{2}}{2} + \\frac{x^{3}}{6} + \\frac{x^{4}}{24} + \\frac{x^{5}}{120} + O\\left(x^{6}\\right)$$"
      ],
      "text/plain": [
       "         2    3    4     5        \n",
       "        x    x    x     x     ⎛ 6⎞\n",
       "1 + x + ── + ── + ── + ─── + O⎝x ⎠\n",
       "        2    6    24   120        "
      ]
     },
     "execution_count": 12,
     "metadata": {},
     "output_type": "execute_result"
    }
   ],
   "source": [
    "exp(x).series()"
   ]
  },
  {
   "cell_type": "code",
   "execution_count": 13,
   "metadata": {},
   "outputs": [
    {
     "data": {
      "image/png": "[encoded data removed]",
      "text/latex": [
       "$$1 - x^{2} + \\frac{x^{4}}{2} + O\\left(x^{6}\\right)$$"
      ],
      "text/plain": [
       "          4        \n",
       "     2   x     ⎛ 6⎞\n",
       "1 - x  + ── + O⎝x ⎠\n",
       "         2         "
      ]
     },
     "execution_count": 13,
     "metadata": {},
     "output_type": "execute_result"
    }
   ],
   "source": [
    "expr = exp(sin(x**2+pi))\n",
    "expr.series(x)"
   ]
  },
  {
   "cell_type": "code",
   "execution_count": 14,
   "metadata": {
    "scrolled": true
   },
   "outputs": [
    {
     "data": {
      "image/png": "[encoded data removed]",
      "text/latex": [
       "$$e^{- \\sin{\\left (1 \\right )}} - \\frac{2 \\left(x - 1\\right) \\cos{\\left (1 \\right )}}{e^{\\sin{\\left (1 \\right )}}} + \\left(x - 1\\right)^{2} \\left(- \\frac{\\cos{\\left (1 \\right )}}{e^{\\sin{\\left (1 \\right )}}} + \\frac{2 \\cos^{2}{\\left (1 \\right )}}{e^{\\sin{\\left (1 \\right )}}} + \\frac{2 \\sin{\\left (1 \\right )}}{e^{\\sin{\\left (1 \\right )}}}\\right) + \\left(x - 1\\right)^{3} \\left(- \\frac{4 \\sin{\\left (1 \\right )} \\cos{\\left (1 \\right )}}{e^{\\sin{\\left (1 \\right )}}} - \\frac{4 \\cos^{3}{\\left (1 \\right )}}{3 e^{\\sin{\\left (1 \\right )}}} + \\frac{2 \\cos^{2}{\\left (1 \\right )}}{e^{\\sin{\\left (1 \\right )}}} + \\frac{4 \\cos{\\left (1 \\right )}}{3 e^{\\sin{\\left (1 \\right )}}} + \\frac{2 \\sin{\\left (1 \\right )}}{e^{\\sin{\\left (1 \\right )}}}\\right) + \\left(x - 1\\right)^{4} \\left(- \\frac{6 \\sin{\\left (1 \\right )} \\cos{\\left (1 \\right )}}{e^{\\sin{\\left (1 \\right )}}} - \\frac{13 \\cos^{2}{\\left (1 \\right )}}{6 e^{\\sin{\\left (1 \\right )}}} - \\frac{2 \\cos^{3}{\\left (1 \\right )}}{e^{\\sin{\\left (1 \\right )}}} - \\frac{\\sin{\\left (1 \\right )}}{6 e^{\\sin{\\left (1 \\right )}}} + \\frac{2 \\cos^{4}{\\left (1 \\right )}}{3 e^{\\sin{\\left (1 \\right )}}} + \\frac{4 \\sin{\\left (1 \\right )} \\cos^{2}{\\left (1 \\right )}}{e^{\\sin{\\left (1 \\right )}}} + \\frac{2 \\cos{\\left (1 \\right )}}{e^{\\sin{\\left (1 \\right )}}} + \\frac{2 \\sin^{2}{\\left (1 \\right )}}{e^{\\sin{\\left (1 \\right )}}}\\right) + \\left(x - 1\\right)^{5} \\left(- \\frac{16 \\cos^{2}{\\left (1 \\right )}}{3 e^{\\sin{\\left (1 \\right )}}} - \\frac{4 \\sin^{2}{\\left (1 \\right )} \\cos{\\left (1 \\right )}}{e^{\\sin{\\left (1 \\right )}}} - \\frac{4 \\sin{\\left (1 \\right )}}{3 e^{\\sin{\\left (1 \\right )}}} - \\frac{8 \\sin{\\left (1 \\right )} \\cos^{3}{\\left (1 \\right )}}{3 e^{\\sin{\\left (1 \\right )}}} - \\frac{4 \\cos^{5}{\\left (1 \\right )}}{15 e^{\\sin{\\left (1 \\right )}}} + \\frac{4 \\cos^{4}{\\left (1 \\right )}}{3 e^{\\sin{\\left (1 \\right )}}} + \\frac{5 \\cos^{3}{\\left (1 \\right )}}{3 e^{\\sin{\\left (1 \\right )}}} + \\frac{11 \\cos{\\left (1 \\right )}}{15 e^{\\sin{\\left (1 \\right )}}} + \\frac{\\sin{\\left (1 \\right )} \\cos{\\left (1 \\right )}}{e^{\\sin{\\left (1 \\right )}}} + \\frac{8 \\sin{\\left (1 \\right )} \\cos^{2}{\\left (1 \\right )}}{e^{\\sin{\\left (1 \\right )}}} + \\frac{4 \\sin^{2}{\\left (1 \\right )}}{e^{\\sin{\\left (1 \\right )}}}\\right) + O\\left(\\left(x - 1\\right)^{6}; x\\rightarrow 1\\right)$$"
      ],
      "text/plain": [
       "                                                                              \n",
       " -sin(1)              -sin(1)                 2 ⎛   -sin(1)             -sin(1\n",
       "ℯ        - 2⋅(x - 1)⋅ℯ       ⋅cos(1) + (x - 1) ⋅⎝- ℯ       ⋅cos(1) + 2⋅ℯ      \n",
       "                                                                              \n",
       "\n",
       "                                          ⎛                                -si\n",
       ")    2         -sin(1)       ⎞          3 ⎜     -sin(1)                 4⋅ℯ   \n",
       " ⋅cos (1) + 2⋅ℯ       ⋅sin(1)⎠ + (x - 1) ⋅⎜- 4⋅ℯ       ⋅sin(1)⋅cos(1) - ──────\n",
       "                                          ⎝                                   \n",
       "\n",
       "n(1)    3                              -sin(1)                           ⎞    \n",
       "    ⋅cos (1)      -sin(1)    2      4⋅ℯ       ⋅cos(1)      -sin(1)       ⎟    \n",
       "──────────── + 2⋅ℯ       ⋅cos (1) + ───────────────── + 2⋅ℯ       ⋅sin(1)⎟ + (\n",
       "  3                                         3                            ⎠    \n",
       "\n",
       "        ⎛                                 -sin(1)    2                        \n",
       "      4 ⎜     -sin(1)                 13⋅ℯ       ⋅cos (1)      -sin(1)    3   \n",
       "x - 1) ⋅⎜- 6⋅ℯ       ⋅sin(1)⋅cos(1) - ─────────────────── - 2⋅ℯ       ⋅cos (1)\n",
       "        ⎝                                      6                              \n",
       "\n",
       "    -sin(1)             -sin(1)    4                                          \n",
       "   ℯ       ⋅sin(1)   2⋅ℯ       ⋅cos (1)      -sin(1)           2         -sin(\n",
       " - ─────────────── + ────────────────── + 4⋅ℯ       ⋅sin(1)⋅cos (1) + 2⋅ℯ     \n",
       "          6                  3                                                \n",
       "\n",
       "                              ⎞            ⎛      -sin(1)    2                \n",
       "1)             -sin(1)    2   ⎟          5 ⎜  16⋅ℯ       ⋅cos (1)      -sin(1)\n",
       "  ⋅cos(1) + 2⋅ℯ       ⋅sin (1)⎟ + (x - 1) ⋅⎜- ─────────────────── - 4⋅ℯ       \n",
       "                              ⎠            ⎝           3                      \n",
       "\n",
       "                     -sin(1)             -sin(1)           3         -sin(1)  \n",
       "    2             4⋅ℯ       ⋅sin(1)   8⋅ℯ       ⋅sin(1)⋅cos (1)   4⋅ℯ       ⋅c\n",
       "⋅sin (1)⋅cos(1) - ───────────────── - ───────────────────────── - ────────────\n",
       "                          3                       3                       15  \n",
       "\n",
       "  5         -sin(1)    4         -sin(1)    3          -sin(1)                \n",
       "os (1)   4⋅ℯ       ⋅cos (1)   5⋅ℯ       ⋅cos (1)   11⋅ℯ       ⋅cos(1)    -sin(\n",
       "────── + ────────────────── + ────────────────── + ────────────────── + ℯ     \n",
       "                 3                    3                    15                 \n",
       "\n",
       "                                                                 ⎞            \n",
       "1)                    -sin(1)           2         -sin(1)    2   ⎟    ⎛       \n",
       "  ⋅sin(1)⋅cos(1) + 8⋅ℯ       ⋅sin(1)⋅cos (1) + 4⋅ℯ       ⋅sin (1)⎟ + O⎝(x - 1)\n",
       "                                                                 ⎠            \n",
       "\n",
       "         \n",
       "6       ⎞\n",
       " ; x → 1⎠\n",
       "         "
      ]
     },
     "execution_count": 14,
     "metadata": {},
     "output_type": "execute_result"
    }
   ],
   "source": [
    "expr.series(x, 1)"
   ]
  },
  {
   "cell_type": "markdown",
   "metadata": {},
   "source": [
    "Lets compare the original function with its series expansion visually\n",
    "\n",
    "### Plotting side-note $\\to$"
   ]
  },
  {
   "cell_type": "code",
   "execution_count": 15,
   "metadata": {},
   "outputs": [
    {
     "data": {
      "image/png": "[encoded data removed]",
      "text/plain": [
       "<matplotlib.figure.Figure at 0x7f023cba75f8>"
      ]
     },
     "metadata": {},
     "output_type": "display_data"
    }
   ],
   "source": [
    "p1 = plot(expr, expr.series(x, 1, 7).removeO(), (x, -4, 7),\n",
    "    ylim = (-1,3),\n",
    "    show = False,\n",
    "    legend = True\n",
    ")\n",
    "p1[1].line_color=\"r\"\n",
    "p1[1].label=\"series(6)\"\n",
    "p1.show()"
   ]
  },
  {
   "cell_type": "markdown",
   "metadata": {},
   "source": [
    "### ODE solving"
   ]
  },
  {
   "cell_type": "code",
   "execution_count": 16,
   "metadata": {},
   "outputs": [],
   "source": [
    "f, g = symbols('f, g', cls=Function)"
   ]
  },
  {
   "cell_type": "code",
   "execution_count": 17,
   "metadata": {},
   "outputs": [
    {
     "data": {
      "image/png": "[encoded data removed]",
      "text/latex": [
       "$$f{\\left (x \\right )} - 2 \\frac{d}{d x} f{\\left (x \\right )} + \\frac{d^{2}}{d x^{2}} f{\\left (x \\right )} = \\sin{\\left (x \\right )}$$"
      ],
      "text/plain": [
       "                      2               \n",
       "         d           d                \n",
       "f(x) - 2⋅──(f(x)) + ───(f(x)) = sin(x)\n",
       "         dx           2               \n",
       "                    dx                "
      ]
     },
     "execution_count": 17,
     "metadata": {},
     "output_type": "execute_result"
    }
   ],
   "source": [
    "eqn = Eq(f(x).diff(x, x) - 2*f(x).diff(x) + f(x), sin(x))\n",
    "eqn"
   ]
  },
  {
   "cell_type": "code",
   "execution_count": 18,
   "metadata": {},
   "outputs": [
    {
     "data": {
      "image/png": "[encoded data removed]",
      "text/latex": [
       "$$f{\\left (x \\right )} = \\left(C_{1} + C_{2} x\\right) e^{x} + \\frac{\\cos{\\left (x \\right )}}{2}$$"
      ],
      "text/plain": [
       "                    x   cos(x)\n",
       "f(x) = (C₁ + C₂⋅x)⋅ℯ  + ──────\n",
       "                          2   "
      ]
     },
     "execution_count": 18,
     "metadata": {},
     "output_type": "execute_result"
    }
   ],
   "source": [
    "sol = dsolve(eqn, f(x))\n",
    "sol"
   ]
  },
  {
   "cell_type": "markdown",
   "metadata": {},
   "source": [
    "We can test that the solution is valid"
   ]
  },
  {
   "cell_type": "code",
   "execution_count": 19,
   "metadata": {},
   "outputs": [
    {
     "data": {
      "image/png": "[encoded data removed]",
      "text/latex": [
       "$$\\mathrm{True}$$"
      ],
      "text/plain": [
       "True"
      ]
     },
     "execution_count": 19,
     "metadata": {},
     "output_type": "execute_result"
    }
   ],
   "source": [
    "eqn.subs(f(x), sol.args[1]).doit()"
   ]
  },
  {
   "cell_type": "markdown",
   "metadata": {},
   "source": [
    "Systems of equations are also supported"
   ]
  },
  {
   "cell_type": "code",
   "execution_count": 20,
   "metadata": {},
   "outputs": [
    {
     "data": {
      "image/png": "[encoded data removed]",
      "text/latex": [
       "$$\\left ( \\frac{d}{d x} f{\\left (x \\right )} = \\alpha g{\\left (x \\right )}, \\quad \\frac{d}{d x} g{\\left (x \\right )} = - \\alpha g{\\left (x \\right )}\\right )$$"
      ],
      "text/plain": [
       "⎛d                  d                 ⎞\n",
       "⎜──(f(x)) = α⋅g(x), ──(g(x)) = -α⋅g(x)⎟\n",
       "⎝dx                 dx                ⎠"
      ]
     },
     "execution_count": 20,
     "metadata": {},
     "output_type": "execute_result"
    }
   ],
   "source": [
    "alpha = symbols(\"alpha\", positive=True)\n",
    "eqn = Eq(f(x).diff(x), alpha*g(x)), Eq(g(x).diff(x), -alpha*g(x))\n",
    "eqn"
   ]
  },
  {
   "cell_type": "code",
   "execution_count": 21,
   "metadata": {},
   "outputs": [
    {
     "data": {
      "image/png": "[encoded data removed]",
      "text/latex": [
       "$$\\left [ f{\\left (x \\right )} = C_{1} \\alpha + C_{2} \\alpha e^{- \\alpha x}, \\quad g{\\left (x \\right )} = - C_{2} \\alpha e^{- \\alpha x}\\right ]$$"
      ],
      "text/plain": [
       "⎡                    -α⋅x                -α⋅x⎤\n",
       "⎣f(x) = C₁⋅α + C₂⋅α⋅ℯ    , g(x) = -C₂⋅α⋅ℯ    ⎦"
      ]
     },
     "execution_count": 21,
     "metadata": {},
     "output_type": "execute_result"
    }
   ],
   "source": [
    "dsolve(eqn, (f(x), g(x)))"
   ]
  }
 ],
 "metadata": {
  "kernelspec": {
   "display_name": "Python 3",
   "language": "python",
   "name": "python3"
  },
  "language_info": {
   "codemirror_mode": {
    "name": "ipython",
    "version": 3
   },
   "file_extension": ".py",
   "mimetype": "text/x-python",
   "name": "python",
   "nbconvert_exporter": "python",
   "pygments_lexer": "ipython3",
   "version": "3.6.6"
  }
 },
 "nbformat": 4,
 "nbformat_minor": 2
}
