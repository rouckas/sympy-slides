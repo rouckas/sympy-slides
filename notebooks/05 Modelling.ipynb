{
 "cells": [
  {
   "cell_type": "markdown",
   "metadata": {},
   "source": [
    "## Data modelling"
   ]
  },
  {
   "cell_type": "code",
   "execution_count": 1,
   "metadata": {},
   "outputs": [],
   "source": [
    "import numpy as np\n",
    "import matplotlib.pyplot as plt\n",
    "%matplotlib inline"
   ]
  },
  {
   "cell_type": "markdown",
   "metadata": {},
   "source": [
    "Let's generate some noisy data to play with"
   ]
  },
  {
   "cell_type": "code",
   "execution_count": 2,
   "metadata": {},
   "outputs": [
    {
     "data": {
      "image/png": "[encoded data removed]",
      "text/plain": [
       "<matplotlib.figure.Figure at 0x7fb399ad18d0>"
      ]
     },
     "metadata": {},
     "output_type": "display_data"
    }
   ],
   "source": [
    "np.random.seed(1234)\n",
    "a = 0.1\n",
    "N0, N1 = 0.1, 1\n",
    "npts = 200\n",
    "X = np.linspace(0, 20, npts)\n",
    "Y0_clean = N0 + N1*(1-np.exp(-a*X))\n",
    "Y1_clean = N1*np.exp(-a*X)\n",
    "Y0 = N0 + N1*(1-np.exp(-a*X)) + np.random.randn(npts)*0.5\n",
    "Y1 = N1*np.exp(-a*X) + np.random.randn(npts)*0.5\n",
    "plt.plot(X, Y0, \"o\")\n",
    "plt.plot(X, Y1, \"o\");"
   ]
  },
  {
   "cell_type": "code",
   "execution_count": 3,
   "metadata": {},
   "outputs": [
    {
     "name": "stdout",
     "output_type": "stream",
     "text": [
      "\n"
     ]
    }
   ],
   "source": [
    "from sympy import *\n",
    "init_session(quiet=True)\n",
    "alpha, N0, N1 = symbols(\"alpha, N0, N1\", positive=True)"
   ]
  },
  {
   "cell_type": "markdown",
   "metadata": {},
   "source": [
    "We have a model a we would like to find the parameters - rate $\\alpha$ and initial numbers $N_0$ and $N_1$"
   ]
  },
  {
   "cell_type": "code",
   "execution_count": 4,
   "metadata": {},
   "outputs": [
    {
     "data": {
      "image/png": "[encoded data removed]",
      "text/latex": [
       "$$\\left ( \\frac{d}{d x} f{\\left (x \\right )} = \\alpha g{\\left (x \\right )}, \\quad \\frac{d}{d x} g{\\left (x \\right )} = - \\alpha g{\\left (x \\right )}\\right )$$"
      ],
      "text/plain": [
       "⎛d                  d                 ⎞\n",
       "⎜──(f(x)) = α⋅g(x), ──(g(x)) = -α⋅g(x)⎟\n",
       "⎝dx                 dx                ⎠"
      ]
     },
     "execution_count": 4,
     "metadata": {},
     "output_type": "execute_result"
    }
   ],
   "source": [
    "eqn = Eq(f(x).diff(x), alpha*g(x)), Eq(g(x).diff(x), -alpha*g(x))\n",
    "eqn"
   ]
  },
  {
   "cell_type": "markdown",
   "metadata": {},
   "source": [
    "The dsolve method can also calculate the integration constants if initial conditions are supplied"
   ]
  },
  {
   "cell_type": "code",
   "execution_count": 5,
   "metadata": {},
   "outputs": [
    {
     "data": {
      "image/png": "[encoded data removed]",
      "text/latex": [
       "$$\\left [ f{\\left (x \\right )} = N_{0} + N_{1} - N_{1} e^{- \\alpha x}, \\quad g{\\left (x \\right )} = N_{1} e^{- \\alpha x}\\right ]$$"
      ],
      "text/plain": [
       "⎡                     -α⋅x             -α⋅x⎤\n",
       "⎣f(x) = N₀ + N₁ - N₁⋅ℯ    , g(x) = N₁⋅ℯ    ⎦"
      ]
     },
     "execution_count": 5,
     "metadata": {},
     "output_type": "execute_result"
    }
   ],
   "source": [
    "sol = dsolve(eqn, (f(x), g(x)), ics={f(0): N0, g(0): N1})\n",
    "sol"
   ]
  },
  {
   "cell_type": "markdown",
   "metadata": {},
   "source": [
    "Convert the solution to numerical function"
   ]
  },
  {
   "cell_type": "code",
   "execution_count": 6,
   "metadata": {},
   "outputs": [],
   "source": [
    "fl = lambdify((x, N0, N1, alpha), sol[0].args[1])\n",
    "gl = lambdify((x, N0, N1, alpha), sol[1].args[1])"
   ]
  },
  {
   "cell_type": "markdown",
   "metadata": {},
   "source": [
    "and fit the model to our data"
   ]
  },
  {
   "cell_type": "code",
   "execution_count": 7,
   "metadata": {
    "scrolled": true
   },
   "outputs": [
    {
     "name": "stdout",
     "output_type": "stream",
     "text": [
      "[[Fit Statistics]]\n",
      "    # fitting method   = leastsq\n",
      "    # function evals   = 39\n",
      "    # data points      = 400\n",
      "    # variables        = 3\n",
      "    chi-square         = 93.7152421\n",
      "    reduced chi-square = 0.23605854\n",
      "    Akaike info crit   = -574.481481\n",
      "    Bayesian info crit = -562.507087\n",
      "[[Variables]]\n",
      "    N0:     0.09039005 +/- 0.07641406 (84.54%) (init = 1)\n",
      "    N1:     1.06458638 +/- 0.07266232 (6.83%) (init = 1)\n",
      "    alpha:  0.09072997 +/- 0.01093316 (12.05%) (init = 1)\n",
      "[[Correlations]] (unreported correlations are < 0.100)\n",
      "    C(N0, N1)    = -0.791\n",
      "    C(N0, alpha) = -0.786\n",
      "    C(N1, alpha) =  0.560\n"
     ]
    }
   ],
   "source": [
    "import lmfit\n",
    "p0 = lmfit.Parameters()\n",
    "p0.add_many((\"N0\", 1), (\"N1\", 1), (\"alpha\", 1))\n",
    "def model(p, x):\n",
    "    pval = p.valuesdict()\n",
    "    r0 = fl(x, pval[\"N0\"], pval[\"N1\"], pval[\"alpha\"])\n",
    "    r1 = gl(x, pval[\"N0\"], pval[\"N1\"], pval[\"alpha\"])\n",
    "    return (r0, r1)\n",
    "def residual(p, x, data):\n",
    "    r0, r1 = model(p, x)\n",
    "    return np.hstack((r0-data[0], r1-data[1]))\n",
    "minimizer = lmfit.Minimizer(residual, p0, (X, (Y0, Y1)))\n",
    "res = minimizer.leastsq()\n",
    "lmfit.report_fit(res)"
   ]
  },
  {
   "cell_type": "markdown",
   "metadata": {},
   "source": [
    "The fitted values are within uncertainties equal to the true parameters, which were used to generate the data. The fit required 39 evaluations of the residual."
   ]
  },
  {
   "cell_type": "markdown",
   "metadata": {},
   "source": [
    "Lmfit was using numerical approximation of model jacobian. Can we improve it? Sympy has a method for calculating matrix jacobian"
   ]
  },
  {
   "cell_type": "code",
   "execution_count": 8,
   "metadata": {},
   "outputs": [
    {
     "data": {
      "text/latex": [
       "$$\\left[\\begin{matrix}1 & 1 - e^{- \\alpha x} & N_{1} x e^{- \\alpha x}\\\\0 & e^{- \\alpha x} & - N_{1} x e^{- \\alpha x}\\end{matrix}\\right]$$"
      ],
      "text/plain": [
       "⎡        -α⋅x        -α⋅x ⎤\n",
       "⎢1  1 - ℯ      N₁⋅x⋅ℯ     ⎥\n",
       "⎢                         ⎥\n",
       "⎢      -α⋅x           -α⋅x⎥\n",
       "⎣0    ℯ        -N₁⋅x⋅ℯ    ⎦"
      ]
     },
     "execution_count": 8,
     "metadata": {},
     "output_type": "execute_result"
    }
   ],
   "source": [
    "F = Matrix([sol[0].args[1], sol[1].args[1]])\n",
    "P = Matrix([N0, N1, alpha])\n",
    "J = F.jacobian(P)\n",
    "J"
   ]
  },
  {
   "cell_type": "markdown",
   "metadata": {},
   "source": [
    "we convert the symbolic jacobian into numerical function suitable for `leastsq` optimization"
   ]
  },
  {
   "cell_type": "code",
   "execution_count": 9,
   "metadata": {},
   "outputs": [],
   "source": [
    "ljac = [[lambdify((x, N0, N1, alpha), J[i, j]) for i in range(2)] for j in range(3)]\n",
    "def Dfun(p, x, data):\n",
    "    pval = p.valuesdict()\n",
    "    r0 = [np.hstack((\n",
    "        jel[0](x, pval[\"N0\"], pval[\"N1\"], pval[\"alpha\"])*np.ones_like(x),\n",
    "        jel[1](x, pval[\"N0\"], pval[\"N1\"], pval[\"alpha\"])*np.ones_like(x)\n",
    "    )) for jel in ljac]\n",
    "    return np.array(r0).T"
   ]
  },
  {
   "cell_type": "code",
   "execution_count": 10,
   "metadata": {},
   "outputs": [
    {
     "name": "stdout",
     "output_type": "stream",
     "text": [
      "[[Fit Statistics]]\n",
      "    # fitting method   = leastsq\n",
      "    # function evals   = 12\n",
      "    # data points      = 400\n",
      "    # variables        = 3\n",
      "    chi-square         = 93.7152421\n",
      "    reduced chi-square = 0.23605854\n",
      "    Akaike info crit   = -574.481481\n",
      "    Bayesian info crit = -562.507087\n",
      "[[Variables]]\n",
      "    N0:     0.09039004 +/- 0.07641405 (84.54%) (init = 1)\n",
      "    N1:     1.06458638 +/- 0.07266232 (6.83%) (init = 1)\n",
      "    alpha:  0.09072997 +/- 0.01093316 (12.05%) (init = 1)\n",
      "[[Correlations]] (unreported correlations are < 0.100)\n",
      "    C(N0, N1)    = -0.791\n",
      "    C(N0, alpha) = -0.786\n",
      "    C(N1, alpha) =  0.560\n"
     ]
    }
   ],
   "source": [
    "res = minimizer.leastsq(Dfun=Dfun)\n",
    "lmfit.report_fit(res)"
   ]
  },
  {
   "cell_type": "markdown",
   "metadata": {},
   "source": [
    "Now we needed only 12 evaluations"
   ]
  },
  {
   "cell_type": "code",
   "execution_count": 11,
   "metadata": {},
   "outputs": [
    {
     "data": {
      "text/plain": [
       "[<matplotlib.lines.Line2D at 0x7fb388374438>]"
      ]
     },
     "execution_count": 11,
     "metadata": {},
     "output_type": "execute_result"
    },
    {
     "data": {
      "image/png": "[encoded data removed]",
      "text/plain": [
       "<matplotlib.figure.Figure at 0x7fb3884a2400>"
      ]
     },
     "metadata": {},
     "output_type": "display_data"
    }
   ],
   "source": [
    "%matplotlib inline\n",
    "plt.plot(X, Y0, \"o\", ms=2, label=\"data0\")\n",
    "plt.plot(X, Y1, \"o\", ms=2, label=\"data1\")\n",
    "plt.plot(X, model(res.params, X)[0], c=\"C0\", label=\"fit0\")\n",
    "plt.plot(X, model(res.params, X)[1], c=\"C1\", label=\"fit1\")\n",
    "plt.plot(X, Y0_clean, \":\", c=\"C0\", label=\"original0\")\n",
    "plt.plot(X, Y1_clean, \":\", c=\"C1\", label=\"original1\")"
   ]
  }
 ],
 "metadata": {
  "kernelspec": {
   "display_name": "Python 3",
   "language": "python",
   "name": "python3"
  },
  "language_info": {
   "codemirror_mode": {
    "name": "ipython",
    "version": 3
   },
   "file_extension": ".py",
   "mimetype": "text/x-python",
   "name": "python",
   "nbconvert_exporter": "python",
   "pygments_lexer": "ipython3",
   "version": "3.6.6"
  }
 },
 "nbformat": 4,
 "nbformat_minor": 2
}
